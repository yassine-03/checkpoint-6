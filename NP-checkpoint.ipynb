{
 "cells": [
  {
   "cell_type": "code",
   "execution_count": 1,
   "id": "7931a46d",
   "metadata": {},
   "outputs": [
    {
     "name": "stdout",
     "output_type": "stream",
     "text": [
      "[[2 6 4]\n",
      " [8 0 7]\n",
      " [1 0 0]\n",
      " [7 7 0]]\n",
      "[[2, 6, 4], [8, 0, 7], [1, 0, 0], [7, 7, 0]]\n"
     ]
    }
   ],
   "source": [
    "import numpy as np\n",
    "A = np.random.randint(0,9,size = (4,3))\n",
    "print(A)\n",
    "L = A.tolist()\n",
    "print(L)"
   ]
  },
  {
   "cell_type": "code",
   "execution_count": 2,
   "id": "3ff744b1",
   "metadata": {},
   "outputs": [
    {
     "name": "stdout",
     "output_type": "stream",
     "text": [
      "2\n"
     ]
    }
   ],
   "source": [
    "s = 0\n",
    "for i in range (min(A.shape)) :\n",
    "    s = s + A[i,i]\n",
    "print(s)"
   ]
  },
  {
   "cell_type": "code",
   "execution_count": 3,
   "id": "9b306907",
   "metadata": {},
   "outputs": [
    {
     "data": {
      "text/plain": [
       "2"
      ]
     },
     "execution_count": 3,
     "metadata": {},
     "output_type": "execute_result"
    }
   ],
   "source": [
    "A.trace()"
   ]
  },
  {
   "cell_type": "code",
   "execution_count": 4,
   "id": "e853a54d",
   "metadata": {},
   "outputs": [
    {
     "name": "stdout",
     "output_type": "stream",
     "text": [
      "what is the number do you want to compare ? :7\n"
     ]
    },
    {
     "data": {
      "text/plain": [
       "array([8])"
      ]
     },
     "execution_count": 4,
     "metadata": {},
     "output_type": "execute_result"
    }
   ],
   "source": [
    "X = int(input('what is the number do you want to compare ? :'))\n",
    "A [A > X]"
   ]
  },
  {
   "cell_type": "code",
   "execution_count": 5,
   "id": "07aceaa3",
   "metadata": {},
   "outputs": [
    {
     "name": "stdout",
     "output_type": "stream",
     "text": [
      "A = [[2 6 4]\n",
      " [8 0 7]\n",
      " [1 0 0]\n",
      " [7 7 0]]\n",
      "B = [[6 4 4]\n",
      " [3 1 1]\n",
      " [6 3 8]\n",
      " [3 0 7]]\n",
      "C = [[ 8. 10.  8.]\n",
      " [11.  1.  8.]\n",
      " [ 7.  3.  8.]\n",
      " [10.  7.  7.]]\n"
     ]
    }
   ],
   "source": [
    "print('A =',A)\n",
    "B = np.random.randint(0,9,size = (4,3))\n",
    "print('B =',B)\n",
    "l , c = A.shape\n",
    "C = np.zeros(A.shape)\n",
    "for i in range (l) :\n",
    "    for j in range (c):\n",
    "        C[i,j] = A[i,j] + B[i,j]\n",
    "print('C =',C)"
   ]
  },
  {
   "cell_type": "code",
   "execution_count": 6,
   "id": "b8930065",
   "metadata": {},
   "outputs": [
    {
     "name": "stdout",
     "output_type": "stream",
     "text": [
      "[[5. 7. 7.]\n",
      " [3. 3. 4.]\n",
      " [7. 6. 1.]\n",
      " [5. 4. 0.]\n",
      " [0. 5. 3.]\n",
      " [3. 7. 7.]]\n",
      "[6.33333333 3.33333333 4.66666667 3.         2.66666667 5.66666667]\n"
     ]
    }
   ],
   "source": [
    "A = np.random.randint(0,9,size = (6,3)).astype(np.float64)\n",
    "\n",
    "print(A)\n",
    "M = A.mean(axis = 1)\n",
    "print(M)\n",
    "for c in range(A.shape[1]):\n",
    "    A[:, c] -= M \n",
    "    \n",
    "    "
   ]
  },
  {
   "cell_type": "code",
   "execution_count": null,
   "id": "67c0a598",
   "metadata": {},
   "outputs": [],
   "source": []
  }
 ],
 "metadata": {
  "kernelspec": {
   "display_name": "Python 3 (ipykernel)",
   "language": "python",
   "name": "python3"
  },
  "language_info": {
   "codemirror_mode": {
    "name": "ipython",
    "version": 3
   },
   "file_extension": ".py",
   "mimetype": "text/x-python",
   "name": "python",
   "nbconvert_exporter": "python",
   "pygments_lexer": "ipython3",
   "version": "3.9.7"
  }
 },
 "nbformat": 4,
 "nbformat_minor": 5
}
